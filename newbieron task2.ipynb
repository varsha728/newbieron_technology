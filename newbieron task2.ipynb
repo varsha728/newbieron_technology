{
 "cells": [
  {
   "cell_type": "code",
   "execution_count": 7,
   "id": "847b9ae7",
   "metadata": {},
   "outputs": [
    {
     "name": "stdout",
     "output_type": "stream",
     "text": [
      "Requirement already satisfied: beautifulsoup4 in c:\\users\\varsha\\anaconda3\\lib\\site-packages (4.11.1)Note: you may need to restart the kernel to use updated packages.\n",
      "Requirement already satisfied: google_images_search in c:\\users\\varsha\\anaconda3\\lib\\site-packages (1.4.6)\n",
      "Requirement already satisfied: soupsieve>1.2 in c:\\users\\varsha\\anaconda3\\lib\\site-packages (from beautifulsoup4) (2.3.1)\n",
      "Requirement already satisfied: Pillow>=8.1.1 in c:\\users\\varsha\\anaconda3\\lib\\site-packages (from google_images_search) (9.0.1)\n",
      "Requirement already satisfied: click>=7.0<=8.1.* in c:\\users\\varsha\\anaconda3\\lib\\site-packages (from google_images_search) (8.0.4)\n",
      "Requirement already satisfied: pyfiglet~=0.8 in c:\\users\\varsha\\anaconda3\\lib\\site-packages (from google_images_search) (0.8.post1)\n",
      "Requirement already satisfied: google-api-python-client~=2.48.0 in c:\\users\\varsha\\anaconda3\\lib\\site-packages (from google_images_search) (2.48.0)\n",
      "Requirement already satisfied: colorama~=0.4 in c:\\users\\varsha\\anaconda3\\lib\\site-packages (from google_images_search) (0.4.4)\n",
      "Requirement already satisfied: python-resize-image~=1.1 in c:\\users\\varsha\\anaconda3\\lib\\site-packages (from google_images_search) (1.1.20)\n",
      "Requirement already satisfied: termcolor~=1.1 in c:\\users\\varsha\\anaconda3\\lib\\site-packages (from google_images_search) (1.1.0)\n",
      "Requirement already satisfied: six~=1.12 in c:\\users\\varsha\\anaconda3\\lib\\site-packages (from google_images_search) (1.16.0)\n",
      "Requirement already satisfied: requests~=2.21 in c:\\users\\varsha\\anaconda3\\lib\\site-packages (from google_images_search) (2.27.1)\n",
      "Requirement already satisfied: httplib2<1dev,>=0.15.0 in c:\\users\\varsha\\anaconda3\\lib\\site-packages (from google-api-python-client~=2.48.0->google_images_search) (0.22.0)\n",
      "Requirement already satisfied: uritemplate<5,>=3.0.1 in c:\\users\\varsha\\anaconda3\\lib\\site-packages (from google-api-python-client~=2.48.0->google_images_search) (4.1.1)\n",
      "Requirement already satisfied: google-api-core!=2.0.*,!=2.1.*,!=2.2.*,!=2.3.0,<3.0.0dev,>=1.31.5 in c:\\users\\varsha\\anaconda3\\lib\\site-packages (from google-api-python-client~=2.48.0->google_images_search) (2.11.1)\n",
      "Requirement already satisfied: google-auth<3.0.0dev,>=1.16.0 in c:\\users\\varsha\\anaconda3\\lib\\site-packages (from google-api-python-client~=2.48.0->google_images_search) (2.21.0)\n",
      "Requirement already satisfied: google-auth-httplib2>=0.1.0 in c:\\users\\varsha\\anaconda3\\lib\\site-packages (from google-api-python-client~=2.48.0->google_images_search) (0.1.0)\n",
      "Requirement already satisfied: charset-normalizer~=2.0.0 in c:\\users\\varsha\\anaconda3\\lib\\site-packages (from requests~=2.21->google_images_search) (2.0.4)\n",
      "Requirement already satisfied: urllib3<1.27,>=1.21.1 in c:\\users\\varsha\\anaconda3\\lib\\site-packages (from requests~=2.21->google_images_search) (1.26.9)\n",
      "Requirement already satisfied: idna<4,>=2.5 in c:\\users\\varsha\\anaconda3\\lib\\site-packages (from requests~=2.21->google_images_search) (3.3)\n",
      "Requirement already satisfied: certifi>=2017.4.17 in c:\\users\\varsha\\anaconda3\\lib\\site-packages (from requests~=2.21->google_images_search) (2021.10.8)\n",
      "Requirement already satisfied: protobuf!=3.20.0,!=3.20.1,!=4.21.0,!=4.21.1,!=4.21.2,!=4.21.3,!=4.21.4,!=4.21.5,<5.0.0.dev0,>=3.19.5 in c:\\users\\varsha\\anaconda3\\lib\\site-packages (from google-api-core!=2.0.*,!=2.1.*,!=2.2.*,!=2.3.0,<3.0.0dev,>=1.31.5->google-api-python-client~=2.48.0->google_images_search) (4.23.3)\n",
      "Requirement already satisfied: googleapis-common-protos<2.0.dev0,>=1.56.2 in c:\\users\\varsha\\anaconda3\\lib\\site-packages (from google-api-core!=2.0.*,!=2.1.*,!=2.2.*,!=2.3.0,<3.0.0dev,>=1.31.5->google-api-python-client~=2.48.0->google_images_search) (1.59.1)\n",
      "Requirement already satisfied: cachetools<6.0,>=2.0.0 in c:\\users\\varsha\\anaconda3\\lib\\site-packages (from google-auth<3.0.0dev,>=1.16.0->google-api-python-client~=2.48.0->google_images_search) (4.2.2)\n",
      "Requirement already satisfied: pyasn1-modules>=0.2.1 in c:\\users\\varsha\\anaconda3\\lib\\site-packages (from google-auth<3.0.0dev,>=1.16.0->google-api-python-client~=2.48.0->google_images_search) (0.2.8)\n",
      "Requirement already satisfied: rsa<5,>=3.1.4 in c:\\users\\varsha\\anaconda3\\lib\\site-packages (from google-auth<3.0.0dev,>=1.16.0->google-api-python-client~=2.48.0->google_images_search) (4.7.2)\n",
      "Requirement already satisfied: pyparsing!=3.0.0,!=3.0.1,!=3.0.2,!=3.0.3,<4,>=2.4.2 in c:\\users\\varsha\\anaconda3\\lib\\site-packages (from httplib2<1dev,>=0.15.0->google-api-python-client~=2.48.0->google_images_search) (3.0.4)\n",
      "Requirement already satisfied: pyasn1<0.5.0,>=0.4.6 in c:\\users\\varsha\\anaconda3\\lib\\site-packages (from pyasn1-modules>=0.2.1->google-auth<3.0.0dev,>=1.16.0->google-api-python-client~=2.48.0->google_images_search) (0.4.8)\n",
      "\n"
     ]
    },
    {
     "name": "stderr",
     "output_type": "stream",
     "text": [
      "WARNING: You are using pip version 22.0.4; however, version 23.1.2 is available.\n",
      "You should consider upgrading via the 'C:\\Users\\Varsha\\anaconda3\\python.exe -m pip install --upgrade pip' command.\n"
     ]
    }
   ],
   "source": [
    "pip install beautifulsoup4 google_images_search\n"
   ]
  },
  {
   "cell_type": "code",
   "execution_count": 10,
   "id": "7a70fff7",
   "metadata": {},
   "outputs": [
    {
     "name": "stdout",
     "output_type": "stream",
     "text": [
      "Requirement already satisfied: windows-curses in c:\\users\\varsha\\anaconda3\\lib\\site-packages (2.3.1)\n",
      "Note: you may need to restart the kernel to use updated packages.\n"
     ]
    },
    {
     "name": "stderr",
     "output_type": "stream",
     "text": [
      "WARNING: You are using pip version 22.0.4; however, version 23.1.2 is available.\n",
      "You should consider upgrading via the 'C:\\Users\\Varsha\\anaconda3\\python.exe -m pip install --upgrade pip' command.\n"
     ]
    }
   ],
   "source": [
    "pip install windows-curses"
   ]
  },
  {
   "cell_type": "code",
   "execution_count": 12,
   "id": "539de067",
   "metadata": {},
   "outputs": [
    {
     "name": "stdout",
     "output_type": "stream",
     "text": [
      "Enter the name of the person: priyanka chopra\n"
     ]
    },
    {
     "ename": "HttpError",
     "evalue": "<HttpError 400 when requesting https://customsearch.googleapis.com/customsearch/v1?cx=your_engine_id&q=priyanka+chopra&searchType=image&num=10&start=1&safe=off&key=your_api_key&alt=json returned \"API key not valid. Please pass a valid API key.\". Details: \"[{'message': 'API key not valid. Please pass a valid API key.', 'domain': 'global', 'reason': 'badRequest'}]\">",
     "output_type": "error",
     "traceback": [
      "\u001b[1;31m---------------------------------------------------------------------------\u001b[0m",
      "\u001b[1;31mHttpError\u001b[0m                                 Traceback (most recent call last)",
      "Input \u001b[1;32mIn [12]\u001b[0m, in \u001b[0;36m<cell line: 37>\u001b[1;34m()\u001b[0m\n\u001b[0;32m     38\u001b[0m person_name \u001b[38;5;241m=\u001b[39m \u001b[38;5;28minput\u001b[39m(\u001b[38;5;124m'\u001b[39m\u001b[38;5;124mEnter the name of the person: \u001b[39m\u001b[38;5;124m'\u001b[39m)\n\u001b[0;32m     39\u001b[0m num_photos \u001b[38;5;241m=\u001b[39m \u001b[38;5;241m50\u001b[39m\n\u001b[1;32m---> 41\u001b[0m \u001b[43mdownload_images\u001b[49m\u001b[43m(\u001b[49m\u001b[43mperson_name\u001b[49m\u001b[43m,\u001b[49m\u001b[43m \u001b[49m\u001b[43mnum_photos\u001b[49m\u001b[43m)\u001b[49m\n",
      "Input \u001b[1;32mIn [12]\u001b[0m, in \u001b[0;36mdownload_images\u001b[1;34m(query, num_images)\u001b[0m\n\u001b[0;32m     17\u001b[0m gis \u001b[38;5;241m=\u001b[39m GoogleImagesSearch(GCS_API_KEY, GCS_ENGINE_ID)\n\u001b[0;32m     18\u001b[0m _search_params \u001b[38;5;241m=\u001b[39m {\n\u001b[0;32m     19\u001b[0m     \u001b[38;5;124m'\u001b[39m\u001b[38;5;124mq\u001b[39m\u001b[38;5;124m'\u001b[39m: query,\n\u001b[0;32m     20\u001b[0m     \u001b[38;5;124m'\u001b[39m\u001b[38;5;124mnum\u001b[39m\u001b[38;5;124m'\u001b[39m: num_images,\n\u001b[0;32m     21\u001b[0m     \u001b[38;5;124m'\u001b[39m\u001b[38;5;124msafe\u001b[39m\u001b[38;5;124m'\u001b[39m: \u001b[38;5;124m'\u001b[39m\u001b[38;5;124moff\u001b[39m\u001b[38;5;124m'\u001b[39m\n\u001b[0;32m     22\u001b[0m }\n\u001b[1;32m---> 23\u001b[0m \u001b[43mgis\u001b[49m\u001b[38;5;241;43m.\u001b[39;49m\u001b[43msearch\u001b[49m\u001b[43m(\u001b[49m\u001b[43msearch_params\u001b[49m\u001b[38;5;241;43m=\u001b[39;49m\u001b[43m_search_params\u001b[49m\u001b[43m)\u001b[49m\n\u001b[0;32m     25\u001b[0m \u001b[38;5;66;03m# Download and save the images\u001b[39;00m\n\u001b[0;32m     26\u001b[0m \u001b[38;5;28;01mfor\u001b[39;00m i, image \u001b[38;5;129;01min\u001b[39;00m \u001b[38;5;28menumerate\u001b[39m(gis\u001b[38;5;241m.\u001b[39mresults()):\n",
      "File \u001b[1;32m~\\anaconda3\\lib\\site-packages\\google_images_search\\fetch_resize_save.py:151\u001b[0m, in \u001b[0;36mFetchResizeSave.search\u001b[1;34m(self, search_params, path_to_dir, width, height, custom_image_name, cache_discovery)\u001b[0m\n\u001b[0;32m    148\u001b[0m \u001b[38;5;28mself\u001b[39m\u001b[38;5;241m.\u001b[39m_search_params[\u001b[38;5;124m'\u001b[39m\u001b[38;5;124mstart\u001b[39m\u001b[38;5;124m'\u001b[39m] \u001b[38;5;241m=\u001b[39m start\n\u001b[0;32m    149\u001b[0m \u001b[38;5;28mself\u001b[39m\u001b[38;5;241m.\u001b[39m_search_params[\u001b[38;5;124m'\u001b[39m\u001b[38;5;124mnum\u001b[39m\u001b[38;5;124m'\u001b[39m] \u001b[38;5;241m=\u001b[39m num\n\u001b[1;32m--> 151\u001b[0m \u001b[38;5;28;43mself\u001b[39;49m\u001b[38;5;241;43m.\u001b[39;49m\u001b[43m_search_images\u001b[49m\u001b[43m(\u001b[49m\u001b[38;5;241;43m*\u001b[39;49m\u001b[38;5;28;43mself\u001b[39;49m\u001b[38;5;241;43m.\u001b[39;49m\u001b[43m_get_data\u001b[49m\u001b[43m(\u001b[49m\u001b[43m)\u001b[49m\u001b[43m)\u001b[49m\n\u001b[0;32m    153\u001b[0m \u001b[38;5;28;01mif\u001b[39;00m \u001b[38;5;28mlen\u001b[39m(\u001b[38;5;28mself\u001b[39m\u001b[38;5;241m.\u001b[39m_search_result) \u001b[38;5;241m>\u001b[39m\u001b[38;5;241m=\u001b[39m \u001b[38;5;28mself\u001b[39m\u001b[38;5;241m.\u001b[39m_number_of_images \\\n\u001b[0;32m    154\u001b[0m         \u001b[38;5;129;01mor\u001b[39;00m \u001b[38;5;28mself\u001b[39m\u001b[38;5;241m.\u001b[39mzero_return:\n\u001b[0;32m    155\u001b[0m     \u001b[38;5;28;01mbreak\u001b[39;00m\n",
      "File \u001b[1;32m~\\anaconda3\\lib\\site-packages\\google_images_search\\fetch_resize_save.py:178\u001b[0m, in \u001b[0;36mFetchResizeSave._search_images\u001b[1;34m(self, search_params, path_to_dir, width, height, _custom_image_name, cache_discovery)\u001b[0m\n\u001b[0;32m    176\u001b[0m i \u001b[38;5;241m=\u001b[39m \u001b[38;5;241m0\u001b[39m\n\u001b[0;32m    177\u001b[0m threads \u001b[38;5;241m=\u001b[39m []\n\u001b[1;32m--> 178\u001b[0m \u001b[38;5;28;01mfor\u001b[39;00m url, referrer_url \u001b[38;5;129;01min\u001b[39;00m \u001b[38;5;28mself\u001b[39m\u001b[38;5;241m.\u001b[39m_google_custom_search\u001b[38;5;241m.\u001b[39msearch(\n\u001b[0;32m    179\u001b[0m     search_params, cache_discovery\n\u001b[0;32m    180\u001b[0m ):\n\u001b[0;32m    181\u001b[0m     \u001b[38;5;66;03m# initialise image object\u001b[39;00m\n\u001b[0;32m    182\u001b[0m     image \u001b[38;5;241m=\u001b[39m GSImage(\u001b[38;5;28mself\u001b[39m)\n\u001b[0;32m    183\u001b[0m     image\u001b[38;5;241m.\u001b[39murl \u001b[38;5;241m=\u001b[39m url\n",
      "File \u001b[1;32m~\\anaconda3\\lib\\site-packages\\google_images_search\\google_api.py:83\u001b[0m, in \u001b[0;36mGoogleCustomSearch.search\u001b[1;34m(self, params, cache_discovery)\u001b[0m\n\u001b[0;32m     75\u001b[0m \u001b[38;5;124;03m\"\"\"Search for images and returns\u001b[39;00m\n\u001b[0;32m     76\u001b[0m \u001b[38;5;124;03mthem using generator object\u001b[39;00m\n\u001b[0;32m     77\u001b[0m \u001b[38;5;124;03m:param params: search params\u001b[39;00m\n\u001b[0;32m     78\u001b[0m \u001b[38;5;124;03m:param cache_discovery whether or not to cache the discovery doc\u001b[39;00m\n\u001b[0;32m     79\u001b[0m \u001b[38;5;124;03m:return: image list\u001b[39;00m\n\u001b[0;32m     80\u001b[0m \u001b[38;5;124;03m\"\"\"\u001b[39;00m\n\u001b[0;32m     82\u001b[0m search_params \u001b[38;5;241m=\u001b[39m \u001b[38;5;28mself\u001b[39m\u001b[38;5;241m.\u001b[39m_search_params(params)\n\u001b[1;32m---> 83\u001b[0m res \u001b[38;5;241m=\u001b[39m \u001b[38;5;28;43mself\u001b[39;49m\u001b[38;5;241;43m.\u001b[39;49m\u001b[43m_query_google_api\u001b[49m\u001b[43m(\u001b[49m\u001b[43msearch_params\u001b[49m\u001b[43m,\u001b[49m\u001b[43m \u001b[49m\u001b[43mcache_discovery\u001b[49m\u001b[43m)\u001b[49m\n\u001b[0;32m     85\u001b[0m results \u001b[38;5;241m=\u001b[39m res\u001b[38;5;241m.\u001b[39mget(\u001b[38;5;124m'\u001b[39m\u001b[38;5;124mitems\u001b[39m\u001b[38;5;124m'\u001b[39m, [])\n\u001b[0;32m     86\u001b[0m \u001b[38;5;28;01mif\u001b[39;00m \u001b[38;5;129;01mnot\u001b[39;00m results:\n",
      "File \u001b[1;32m~\\anaconda3\\lib\\site-packages\\google_images_search\\google_api.py:48\u001b[0m, in \u001b[0;36mGoogleCustomSearch._query_google_api\u001b[1;34m(self, search_params, cache_discovery)\u001b[0m\n\u001b[0;32m     42\u001b[0m \u001b[38;5;28;01mif\u001b[39;00m \u001b[38;5;129;01mnot\u001b[39;00m \u001b[38;5;28mself\u001b[39m\u001b[38;5;241m.\u001b[39m_google_build:\n\u001b[0;32m     43\u001b[0m     \u001b[38;5;28mself\u001b[39m\u001b[38;5;241m.\u001b[39m_google_build \u001b[38;5;241m=\u001b[39m discovery\u001b[38;5;241m.\u001b[39mbuild(\n\u001b[0;32m     44\u001b[0m         \u001b[38;5;124m\"\u001b[39m\u001b[38;5;124mcustomsearch\u001b[39m\u001b[38;5;124m\"\u001b[39m, \u001b[38;5;124m\"\u001b[39m\u001b[38;5;124mv1\u001b[39m\u001b[38;5;124m\"\u001b[39m,\n\u001b[0;32m     45\u001b[0m         developerKey\u001b[38;5;241m=\u001b[39m\u001b[38;5;28mself\u001b[39m\u001b[38;5;241m.\u001b[39m_developer_key,\n\u001b[0;32m     46\u001b[0m         cache_discovery\u001b[38;5;241m=\u001b[39mcache_discovery)\n\u001b[1;32m---> 48\u001b[0m \u001b[38;5;28;01mreturn\u001b[39;00m \u001b[38;5;28;43mself\u001b[39;49m\u001b[38;5;241;43m.\u001b[39;49m\u001b[43m_google_build\u001b[49m\u001b[38;5;241;43m.\u001b[39;49m\u001b[43mcse\u001b[49m\u001b[43m(\u001b[49m\u001b[43m)\u001b[49m\u001b[38;5;241;43m.\u001b[39;49m\u001b[43mlist\u001b[49m\u001b[43m(\u001b[49m\n\u001b[0;32m     49\u001b[0m \u001b[43m    \u001b[49m\u001b[43mcx\u001b[49m\u001b[38;5;241;43m=\u001b[39;49m\u001b[38;5;28;43mself\u001b[39;49m\u001b[38;5;241;43m.\u001b[39;49m\u001b[43m_custom_search_cx\u001b[49m\u001b[43m,\u001b[49m\u001b[43m \u001b[49m\u001b[38;5;241;43m*\u001b[39;49m\u001b[38;5;241;43m*\u001b[39;49m\u001b[43msearch_params\u001b[49m\u001b[43m)\u001b[49m\u001b[38;5;241;43m.\u001b[39;49m\u001b[43mexecute\u001b[49m\u001b[43m(\u001b[49m\u001b[43m)\u001b[49m\n",
      "File \u001b[1;32m~\\anaconda3\\lib\\site-packages\\googleapiclient\\_helpers.py:130\u001b[0m, in \u001b[0;36mpositional.<locals>.positional_decorator.<locals>.positional_wrapper\u001b[1;34m(*args, **kwargs)\u001b[0m\n\u001b[0;32m    128\u001b[0m     \u001b[38;5;28;01melif\u001b[39;00m positional_parameters_enforcement \u001b[38;5;241m==\u001b[39m POSITIONAL_WARNING:\n\u001b[0;32m    129\u001b[0m         logger\u001b[38;5;241m.\u001b[39mwarning(message)\n\u001b[1;32m--> 130\u001b[0m \u001b[38;5;28;01mreturn\u001b[39;00m wrapped(\u001b[38;5;241m*\u001b[39margs, \u001b[38;5;241m*\u001b[39m\u001b[38;5;241m*\u001b[39mkwargs)\n",
      "File \u001b[1;32m~\\anaconda3\\lib\\site-packages\\googleapiclient\\http.py:938\u001b[0m, in \u001b[0;36mHttpRequest.execute\u001b[1;34m(self, http, num_retries)\u001b[0m\n\u001b[0;32m    936\u001b[0m     callback(resp)\n\u001b[0;32m    937\u001b[0m \u001b[38;5;28;01mif\u001b[39;00m resp\u001b[38;5;241m.\u001b[39mstatus \u001b[38;5;241m>\u001b[39m\u001b[38;5;241m=\u001b[39m \u001b[38;5;241m300\u001b[39m:\n\u001b[1;32m--> 938\u001b[0m     \u001b[38;5;28;01mraise\u001b[39;00m HttpError(resp, content, uri\u001b[38;5;241m=\u001b[39m\u001b[38;5;28mself\u001b[39m\u001b[38;5;241m.\u001b[39muri)\n\u001b[0;32m    939\u001b[0m \u001b[38;5;28;01mreturn\u001b[39;00m \u001b[38;5;28mself\u001b[39m\u001b[38;5;241m.\u001b[39mpostproc(resp, content)\n",
      "\u001b[1;31mHttpError\u001b[0m: <HttpError 400 when requesting https://customsearch.googleapis.com/customsearch/v1?cx=your_engine_id&q=priyanka+chopra&searchType=image&num=10&start=1&safe=off&key=your_api_key&alt=json returned \"API key not valid. Please pass a valid API key.\". Details: \"[{'message': 'API key not valid. Please pass a valid API key.', 'domain': 'global', 'reason': 'badRequest'}]\">"
     ]
    }
   ],
   "source": [
    "import os\n",
    "import sys\n",
    "import requests\n",
    "from bs4 import BeautifulSoup\n",
    "from google_images_search import GoogleImagesSearch\n",
    "\n",
    "# Enter your Google Custom Search Engine (CSE) API credentials here\n",
    "GCS_ENGINE_ID = 'your_engine_id'\n",
    "GCS_API_KEY = 'your_api_key'\n",
    "\n",
    "def download_images(query, num_images):\n",
    "    # Create a directory to save the downloaded images\n",
    "    if not os.path.exists('images'):\n",
    "        os.makedirs('images')\n",
    "\n",
    "    # Search for the query using the Google Images Search API\n",
    "    gis = GoogleImagesSearch(GCS_API_KEY, GCS_ENGINE_ID)\n",
    "    _search_params = {\n",
    "        'q': query,\n",
    "        'num': num_images,\n",
    "        'safe': 'off'\n",
    "    }\n",
    "    gis.search(search_params=_search_params)\n",
    "\n",
    "    # Download and save the images\n",
    "    for i, image in enumerate(gis.results()):\n",
    "        response = requests.get(image.url)\n",
    "\n",
    "        # Save the image to the 'images' directory\n",
    "        with open(f'images/{query}_{i+1}.jpg', 'wb') as file:\n",
    "            file.write(response.content)\n",
    "\n",
    "        print(f'Downloaded image {i+1}/{num_images}')\n",
    "\n",
    "    print(f'Successfully downloaded {num_images} images of {query}.')\n",
    "\n",
    "if __name__ == '__main__':\n",
    "    person_name = input('Enter the name of the person: ')\n",
    "    num_photos = 50\n",
    "\n",
    "    download_images(person_name, num_photos)\n"
   ]
  },
  {
   "cell_type": "code",
   "execution_count": 14,
   "id": "976ac8dc",
   "metadata": {},
   "outputs": [
    {
     "name": "stdout",
     "output_type": "stream",
     "text": [
      "Enter the name of the person: rohit sharma\n"
     ]
    },
    {
     "ename": "HttpError",
     "evalue": "<HttpError 400 when requesting https://customsearch.googleapis.com/customsearch/v1?cx=your_engine_id&q=rohit+sharma&searchType=image&num=10&start=1&safe=off&key=your_api_key&alt=json returned \"API key not valid. Please pass a valid API key.\". Details: \"[{'message': 'API key not valid. Please pass a valid API key.', 'domain': 'global', 'reason': 'badRequest'}]\">",
     "output_type": "error",
     "traceback": [
      "\u001b[1;31m---------------------------------------------------------------------------\u001b[0m",
      "\u001b[1;31mHttpError\u001b[0m                                 Traceback (most recent call last)",
      "Input \u001b[1;32mIn [14]\u001b[0m, in \u001b[0;36m<cell line: 23>\u001b[1;34m()\u001b[0m\n\u001b[0;32m     21\u001b[0m person_name \u001b[38;5;241m=\u001b[39m \u001b[38;5;28minput\u001b[39m(\u001b[38;5;124m'\u001b[39m\u001b[38;5;124mEnter the name of the person: \u001b[39m\u001b[38;5;124m'\u001b[39m)\n\u001b[0;32m     22\u001b[0m num_photos \u001b[38;5;241m=\u001b[39m \u001b[38;5;241m50\u001b[39m\n\u001b[1;32m---> 23\u001b[0m \u001b[43mdownload_images\u001b[49m\u001b[43m(\u001b[49m\u001b[43mperson_name\u001b[49m\u001b[43m,\u001b[49m\u001b[43m \u001b[49m\u001b[43mnum_photos\u001b[49m\u001b[43m)\u001b[49m\n",
      "Input \u001b[1;32mIn [14]\u001b[0m, in \u001b[0;36mdownload_images\u001b[1;34m(query, num_images)\u001b[0m\n\u001b[0;32m      8\u001b[0m gis \u001b[38;5;241m=\u001b[39m GoogleImagesSearch(GCS_API_KEY, GCS_ENGINE_ID)\n\u001b[0;32m      9\u001b[0m _search_params \u001b[38;5;241m=\u001b[39m {\n\u001b[0;32m     10\u001b[0m     \u001b[38;5;124m'\u001b[39m\u001b[38;5;124mq\u001b[39m\u001b[38;5;124m'\u001b[39m: query,\n\u001b[0;32m     11\u001b[0m     \u001b[38;5;124m'\u001b[39m\u001b[38;5;124mnum\u001b[39m\u001b[38;5;124m'\u001b[39m: num_images,\n\u001b[0;32m     12\u001b[0m     \u001b[38;5;124m'\u001b[39m\u001b[38;5;124msafe\u001b[39m\u001b[38;5;124m'\u001b[39m: \u001b[38;5;124m'\u001b[39m\u001b[38;5;124moff\u001b[39m\u001b[38;5;124m'\u001b[39m\n\u001b[0;32m     13\u001b[0m }\n\u001b[1;32m---> 14\u001b[0m \u001b[43mgis\u001b[49m\u001b[38;5;241;43m.\u001b[39;49m\u001b[43msearch\u001b[49m\u001b[43m(\u001b[49m\u001b[43msearch_params\u001b[49m\u001b[38;5;241;43m=\u001b[39;49m\u001b[43m_search_params\u001b[49m\u001b[43m)\u001b[49m\n\u001b[0;32m     16\u001b[0m \u001b[38;5;66;03m# Download and save the images\u001b[39;00m\n\u001b[0;32m     17\u001b[0m \u001b[38;5;28;01mfor\u001b[39;00m i, image \u001b[38;5;129;01min\u001b[39;00m \u001b[38;5;28menumerate\u001b[39m(gis\u001b[38;5;241m.\u001b[39mresults()):\n",
      "File \u001b[1;32m~\\anaconda3\\lib\\site-packages\\google_images_search\\fetch_resize_save.py:151\u001b[0m, in \u001b[0;36mFetchResizeSave.search\u001b[1;34m(self, search_params, path_to_dir, width, height, custom_image_name, cache_discovery)\u001b[0m\n\u001b[0;32m    148\u001b[0m \u001b[38;5;28mself\u001b[39m\u001b[38;5;241m.\u001b[39m_search_params[\u001b[38;5;124m'\u001b[39m\u001b[38;5;124mstart\u001b[39m\u001b[38;5;124m'\u001b[39m] \u001b[38;5;241m=\u001b[39m start\n\u001b[0;32m    149\u001b[0m \u001b[38;5;28mself\u001b[39m\u001b[38;5;241m.\u001b[39m_search_params[\u001b[38;5;124m'\u001b[39m\u001b[38;5;124mnum\u001b[39m\u001b[38;5;124m'\u001b[39m] \u001b[38;5;241m=\u001b[39m num\n\u001b[1;32m--> 151\u001b[0m \u001b[38;5;28;43mself\u001b[39;49m\u001b[38;5;241;43m.\u001b[39;49m\u001b[43m_search_images\u001b[49m\u001b[43m(\u001b[49m\u001b[38;5;241;43m*\u001b[39;49m\u001b[38;5;28;43mself\u001b[39;49m\u001b[38;5;241;43m.\u001b[39;49m\u001b[43m_get_data\u001b[49m\u001b[43m(\u001b[49m\u001b[43m)\u001b[49m\u001b[43m)\u001b[49m\n\u001b[0;32m    153\u001b[0m \u001b[38;5;28;01mif\u001b[39;00m \u001b[38;5;28mlen\u001b[39m(\u001b[38;5;28mself\u001b[39m\u001b[38;5;241m.\u001b[39m_search_result) \u001b[38;5;241m>\u001b[39m\u001b[38;5;241m=\u001b[39m \u001b[38;5;28mself\u001b[39m\u001b[38;5;241m.\u001b[39m_number_of_images \\\n\u001b[0;32m    154\u001b[0m         \u001b[38;5;129;01mor\u001b[39;00m \u001b[38;5;28mself\u001b[39m\u001b[38;5;241m.\u001b[39mzero_return:\n\u001b[0;32m    155\u001b[0m     \u001b[38;5;28;01mbreak\u001b[39;00m\n",
      "File \u001b[1;32m~\\anaconda3\\lib\\site-packages\\google_images_search\\fetch_resize_save.py:178\u001b[0m, in \u001b[0;36mFetchResizeSave._search_images\u001b[1;34m(self, search_params, path_to_dir, width, height, _custom_image_name, cache_discovery)\u001b[0m\n\u001b[0;32m    176\u001b[0m i \u001b[38;5;241m=\u001b[39m \u001b[38;5;241m0\u001b[39m\n\u001b[0;32m    177\u001b[0m threads \u001b[38;5;241m=\u001b[39m []\n\u001b[1;32m--> 178\u001b[0m \u001b[38;5;28;01mfor\u001b[39;00m url, referrer_url \u001b[38;5;129;01min\u001b[39;00m \u001b[38;5;28mself\u001b[39m\u001b[38;5;241m.\u001b[39m_google_custom_search\u001b[38;5;241m.\u001b[39msearch(\n\u001b[0;32m    179\u001b[0m     search_params, cache_discovery\n\u001b[0;32m    180\u001b[0m ):\n\u001b[0;32m    181\u001b[0m     \u001b[38;5;66;03m# initialise image object\u001b[39;00m\n\u001b[0;32m    182\u001b[0m     image \u001b[38;5;241m=\u001b[39m GSImage(\u001b[38;5;28mself\u001b[39m)\n\u001b[0;32m    183\u001b[0m     image\u001b[38;5;241m.\u001b[39murl \u001b[38;5;241m=\u001b[39m url\n",
      "File \u001b[1;32m~\\anaconda3\\lib\\site-packages\\google_images_search\\google_api.py:83\u001b[0m, in \u001b[0;36mGoogleCustomSearch.search\u001b[1;34m(self, params, cache_discovery)\u001b[0m\n\u001b[0;32m     75\u001b[0m \u001b[38;5;124;03m\"\"\"Search for images and returns\u001b[39;00m\n\u001b[0;32m     76\u001b[0m \u001b[38;5;124;03mthem using generator object\u001b[39;00m\n\u001b[0;32m     77\u001b[0m \u001b[38;5;124;03m:param params: search params\u001b[39;00m\n\u001b[0;32m     78\u001b[0m \u001b[38;5;124;03m:param cache_discovery whether or not to cache the discovery doc\u001b[39;00m\n\u001b[0;32m     79\u001b[0m \u001b[38;5;124;03m:return: image list\u001b[39;00m\n\u001b[0;32m     80\u001b[0m \u001b[38;5;124;03m\"\"\"\u001b[39;00m\n\u001b[0;32m     82\u001b[0m search_params \u001b[38;5;241m=\u001b[39m \u001b[38;5;28mself\u001b[39m\u001b[38;5;241m.\u001b[39m_search_params(params)\n\u001b[1;32m---> 83\u001b[0m res \u001b[38;5;241m=\u001b[39m \u001b[38;5;28;43mself\u001b[39;49m\u001b[38;5;241;43m.\u001b[39;49m\u001b[43m_query_google_api\u001b[49m\u001b[43m(\u001b[49m\u001b[43msearch_params\u001b[49m\u001b[43m,\u001b[49m\u001b[43m \u001b[49m\u001b[43mcache_discovery\u001b[49m\u001b[43m)\u001b[49m\n\u001b[0;32m     85\u001b[0m results \u001b[38;5;241m=\u001b[39m res\u001b[38;5;241m.\u001b[39mget(\u001b[38;5;124m'\u001b[39m\u001b[38;5;124mitems\u001b[39m\u001b[38;5;124m'\u001b[39m, [])\n\u001b[0;32m     86\u001b[0m \u001b[38;5;28;01mif\u001b[39;00m \u001b[38;5;129;01mnot\u001b[39;00m results:\n",
      "File \u001b[1;32m~\\anaconda3\\lib\\site-packages\\google_images_search\\google_api.py:48\u001b[0m, in \u001b[0;36mGoogleCustomSearch._query_google_api\u001b[1;34m(self, search_params, cache_discovery)\u001b[0m\n\u001b[0;32m     42\u001b[0m \u001b[38;5;28;01mif\u001b[39;00m \u001b[38;5;129;01mnot\u001b[39;00m \u001b[38;5;28mself\u001b[39m\u001b[38;5;241m.\u001b[39m_google_build:\n\u001b[0;32m     43\u001b[0m     \u001b[38;5;28mself\u001b[39m\u001b[38;5;241m.\u001b[39m_google_build \u001b[38;5;241m=\u001b[39m discovery\u001b[38;5;241m.\u001b[39mbuild(\n\u001b[0;32m     44\u001b[0m         \u001b[38;5;124m\"\u001b[39m\u001b[38;5;124mcustomsearch\u001b[39m\u001b[38;5;124m\"\u001b[39m, \u001b[38;5;124m\"\u001b[39m\u001b[38;5;124mv1\u001b[39m\u001b[38;5;124m\"\u001b[39m,\n\u001b[0;32m     45\u001b[0m         developerKey\u001b[38;5;241m=\u001b[39m\u001b[38;5;28mself\u001b[39m\u001b[38;5;241m.\u001b[39m_developer_key,\n\u001b[0;32m     46\u001b[0m         cache_discovery\u001b[38;5;241m=\u001b[39mcache_discovery)\n\u001b[1;32m---> 48\u001b[0m \u001b[38;5;28;01mreturn\u001b[39;00m \u001b[38;5;28;43mself\u001b[39;49m\u001b[38;5;241;43m.\u001b[39;49m\u001b[43m_google_build\u001b[49m\u001b[38;5;241;43m.\u001b[39;49m\u001b[43mcse\u001b[49m\u001b[43m(\u001b[49m\u001b[43m)\u001b[49m\u001b[38;5;241;43m.\u001b[39;49m\u001b[43mlist\u001b[49m\u001b[43m(\u001b[49m\n\u001b[0;32m     49\u001b[0m \u001b[43m    \u001b[49m\u001b[43mcx\u001b[49m\u001b[38;5;241;43m=\u001b[39;49m\u001b[38;5;28;43mself\u001b[39;49m\u001b[38;5;241;43m.\u001b[39;49m\u001b[43m_custom_search_cx\u001b[49m\u001b[43m,\u001b[49m\u001b[43m \u001b[49m\u001b[38;5;241;43m*\u001b[39;49m\u001b[38;5;241;43m*\u001b[39;49m\u001b[43msearch_params\u001b[49m\u001b[43m)\u001b[49m\u001b[38;5;241;43m.\u001b[39;49m\u001b[43mexecute\u001b[49m\u001b[43m(\u001b[49m\u001b[43m)\u001b[49m\n",
      "File \u001b[1;32m~\\anaconda3\\lib\\site-packages\\googleapiclient\\_helpers.py:130\u001b[0m, in \u001b[0;36mpositional.<locals>.positional_decorator.<locals>.positional_wrapper\u001b[1;34m(*args, **kwargs)\u001b[0m\n\u001b[0;32m    128\u001b[0m     \u001b[38;5;28;01melif\u001b[39;00m positional_parameters_enforcement \u001b[38;5;241m==\u001b[39m POSITIONAL_WARNING:\n\u001b[0;32m    129\u001b[0m         logger\u001b[38;5;241m.\u001b[39mwarning(message)\n\u001b[1;32m--> 130\u001b[0m \u001b[38;5;28;01mreturn\u001b[39;00m wrapped(\u001b[38;5;241m*\u001b[39margs, \u001b[38;5;241m*\u001b[39m\u001b[38;5;241m*\u001b[39mkwargs)\n",
      "File \u001b[1;32m~\\anaconda3\\lib\\site-packages\\googleapiclient\\http.py:938\u001b[0m, in \u001b[0;36mHttpRequest.execute\u001b[1;34m(self, http, num_retries)\u001b[0m\n\u001b[0;32m    936\u001b[0m     callback(resp)\n\u001b[0;32m    937\u001b[0m \u001b[38;5;28;01mif\u001b[39;00m resp\u001b[38;5;241m.\u001b[39mstatus \u001b[38;5;241m>\u001b[39m\u001b[38;5;241m=\u001b[39m \u001b[38;5;241m300\u001b[39m:\n\u001b[1;32m--> 938\u001b[0m     \u001b[38;5;28;01mraise\u001b[39;00m HttpError(resp, content, uri\u001b[38;5;241m=\u001b[39m\u001b[38;5;28mself\u001b[39m\u001b[38;5;241m.\u001b[39muri)\n\u001b[0;32m    939\u001b[0m \u001b[38;5;28;01mreturn\u001b[39;00m \u001b[38;5;28mself\u001b[39m\u001b[38;5;241m.\u001b[39mpostproc(resp, content)\n",
      "\u001b[1;31mHttpError\u001b[0m: <HttpError 400 when requesting https://customsearch.googleapis.com/customsearch/v1?cx=your_engine_id&q=rohit+sharma&searchType=image&num=10&start=1&safe=off&key=your_api_key&alt=json returned \"API key not valid. Please pass a valid API key.\". Details: \"[{'message': 'API key not valid. Please pass a valid API key.', 'domain': 'global', 'reason': 'badRequest'}]\">"
     ]
    }
   ],
   "source": [
    "from google_images_search import GoogleImagesSearch\n",
    "\n",
    "# Enter your Google Custom Search Engine (CSE) API credentials here\n",
    "GCS_API_KEY = 'your_api_key'\n",
    "GCS_ENGINE_ID = 'your_engine_id'\n",
    "\n",
    "def download_images(query, num_images):\n",
    "    gis = GoogleImagesSearch(GCS_API_KEY, GCS_ENGINE_ID)\n",
    "    _search_params = {\n",
    "        'q': query,\n",
    "        'num': num_images,\n",
    "        'safe': 'off'\n",
    "    }\n",
    "    gis.search(search_params=_search_params)\n",
    "\n",
    "    # Download and save the images\n",
    "    for i, image in enumerate(gis.results()):\n",
    "        image.download(f\"image_{i+1}.jpg\")\n",
    "\n",
    "# Example usage\n",
    "person_name = input('Enter the name of the person: ')\n",
    "num_photos = 50\n",
    "download_images(person_name, num_photos)\n"
   ]
  },
  {
   "cell_type": "code",
   "execution_count": null,
   "id": "9f41341a",
   "metadata": {},
   "outputs": [],
   "source": []
  }
 ],
 "metadata": {
  "kernelspec": {
   "display_name": "Python 3 (ipykernel)",
   "language": "python",
   "name": "python3"
  },
  "language_info": {
   "codemirror_mode": {
    "name": "ipython",
    "version": 3
   },
   "file_extension": ".py",
   "mimetype": "text/x-python",
   "name": "python",
   "nbconvert_exporter": "python",
   "pygments_lexer": "ipython3",
   "version": "3.9.12"
  }
 },
 "nbformat": 4,
 "nbformat_minor": 5
}
