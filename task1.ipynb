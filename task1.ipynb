import requests
import matplotlib.pyplot as plt

def scrape_covid19india_data():
    url_data = "https://api.covid19india.org/data.json"
    url_district = "https://api.covid19india.org/v2/state_district_wise.json"
    url_log = "https://api.covid19india.org/updatelog/log.json"

    response_data = requests.get(url_data)
    response_district = requests.get(url_district)
    response_log = requests.get(url_log)

    data_data = response_data.json()
    data_district = response_district.json()
    data_log = response_log.json()

    # Extract the required data for plotting
    states = []
    confirmed_cases = []
    recovered_cases = []
    deaths = []
    active_cases = []

    for state_data in data_data["statewise"]:
        states.append(state_data["state"])
        confirmed_cases.append(int(state_data["confirmed"]))
        recovered_cases.append(int(state_data["recovered"]))
        deaths.append(int(state_data["deaths"]))
        active_cases.append(int(state_data["active"]))

    return states, confirmed_cases, recovered_cases, deaths, active_cases

states, confirmed_cases, recovered_cases, deaths, active_cases = scrape_covid19india_data()

# Create a bar chart to represent the collected data
plt.figure(figsize=(12, 6))
plt.bar(states, confirmed_cases, label="Confirmed Cases", color="blue")
plt.bar(states, recovered_cases, label="Recovered Cases", color="green", bottom=confirmed_cases)
plt.bar(states, deaths, label="Deaths", color="red", bottom=[confirmed + recovered for confirmed, recovered in zip(confirmed_cases, recovered_cases)])
plt.bar(states, active_cases, label="Active Cases", color="orange", bottom=[confirmed + recovered + death for confirmed, recovered, death in zip(confirmed_cases, recovered_cases, deaths)])

plt.xlabel("States")
plt.ylabel("Number of Cases")
plt.title("COVID-19 Cases in India (State-wise)")
plt.xticks(rotation=90)
plt.legend()

plt.tight_layout()
plt.show()
