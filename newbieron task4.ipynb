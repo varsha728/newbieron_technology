{
 "cells": [
  {
   "cell_type": "code",
   "execution_count": 7,
   "id": "2e3e5967",
   "metadata": {},
   "outputs": [],
   "source": [
    "from bs4 import BeautifulSoup\n",
    "import requests\n",
    "import csv\n",
    "urls = [\"https://www.magicbricks.com/\", \"https://www.nobroker.in/\", \"https://housing.com/\"]\n",
    "\n",
    "for url in urls:\n",
    "    response = requests.get(url)\n",
    "    soup = BeautifulSoup(response.content, \"html.parser\")\n",
    "\n",
    "    # Scraping logic for each website (Magicbricks, NoBroker, Housing.com)\n",
    "    if \"magicbricks\" in url:\n",
    "        listings = soup.find_all(\"div\", class_=\"card\")\n",
    "        for listing in listings:\n",
    "            business_name = listing.find(\"h2\", class_=\"agentName\").text.strip()\n",
    "            contact_number = listing.find(\"span\", class_=\"phone_agent\").text.strip()\n",
    "            location = listing.find(\"span\", class_=\"loclink\").text.strip()\n",
    "            website_url = listing.find(\"a\", class_=\"go-to-proj-link\")[\"href\"] if listing.find(\"a\", class_=\"go-to-proj-link\") else \"NA\"\n",
    "            \n",
    "            writer.writerow([business_name, contact_number, location, website_url])\n",
    "    \n",
    "    elif \"nobroker\" in url:\n",
    "        listings = soup.find_all(\"div\", class_=\"card\")\n",
    "        for listing in listings:\n",
    "            business_name = listing.find(\"h2\", class_=\"heading-6\").text.strip()\n",
    "            contact_number = listing.find(\"div\", class_=\"contact\").text.strip()\n",
    "            location = listing.find(\"div\", class_=\"loca\").text.strip()\n",
    "            website_url = listing.find(\"a\", class_=\"link-text\")[\"href\"] if listing.find(\"a\", class_=\"link-text\") else \"NA\"\n",
    "            \n",
    "            writer.writerow([business_name, contact_number, location, website_url])\n",
    "    \n",
    "    elif \"housing\" in url:\n",
    "        listings = soup.find_all(\"div\", class_=\"card-listing\")\n",
    "        for listing in listings:\n",
    "            business_name = listing.find(\"h2\", class_=\"listing-title\").text.strip()\n",
    "            contact_number = listing.find(\"span\", class_=\"listing-phone-number\").text.strip()\n",
    "            location = listing.find(\"div\", class_=\"listing-location\").text.strip()\n",
    "            website_url = listing.find(\"a\", class_=\"listing-title-link\")[\"href\"] if listing.find(\"a\", class_=\"listing-title-link\") else \"NA\"\n",
    "            \n",
    "            writer.writerow([business_name, contact_number, location, website_url])\n",
    "\n",
    "csv_file.close()\n"
   ]
  },
  {
   "cell_type": "code",
   "execution_count": 8,
   "id": "e8847774",
   "metadata": {},
   "outputs": [
    {
     "name": "stdout",
     "output_type": "stream",
     "text": [
      "['Business Name', 'Contact Number', 'Location/Address', 'Website URL']\n"
     ]
    }
   ],
   "source": [
    "import csv\n",
    "\n",
    "# Open the CSV file in read mode\n",
    "with open(\"business_data.csv\", \"r\") as csv_file:\n",
    "    reader = csv.reader(csv_file)\n",
    "    \n",
    "    # Loop through each row in the CSV file\n",
    "    for row in reader:\n",
    "        print(row)\n"
   ]
  },
  {
   "cell_type": "code",
   "execution_count": 9,
   "id": "373e81ce",
   "metadata": {},
   "outputs": [],
   "source": [
    "import csv\n",
    "\n",
    "# Open the CSV file in read mode\n",
    "with open(\"business_data.csv\", \"r\") as csv_file:\n",
    "    reader = csv.reader(csv_file)\n",
    "    \n",
    "    # Skip the header row\n",
    "    next(reader)\n",
    "    \n",
    "    # Loop through each row in the CSV file\n",
    "    for row in reader:\n",
    "        # Print the data\n",
    "        print(\"Business Name:\", row[0])\n",
    "        print(\"Contact Number:\", row[1])\n",
    "        print(\"Location/Address:\", row[2])\n",
    "        print(\"Website URL:\", row[3])\n",
    "        print()\n"
   ]
  },
  {
   "cell_type": "code",
   "execution_count": null,
   "id": "a09a84b1",
   "metadata": {},
   "outputs": [],
   "source": []
  }
 ],
 "metadata": {
  "kernelspec": {
   "display_name": "Python 3 (ipykernel)",
   "language": "python",
   "name": "python3"
  },
  "language_info": {
   "codemirror_mode": {
    "name": "ipython",
    "version": 3
   },
   "file_extension": ".py",
   "mimetype": "text/x-python",
   "name": "python",
   "nbconvert_exporter": "python",
   "pygments_lexer": "ipython3",
   "version": "3.9.12"
  }
 },
 "nbformat": 4,
 "nbformat_minor": 5
}
